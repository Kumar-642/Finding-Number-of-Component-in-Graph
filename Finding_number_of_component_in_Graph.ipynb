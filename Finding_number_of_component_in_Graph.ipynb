{
  "nbformat": 4,
  "nbformat_minor": 0,
  "metadata": {
    "colab": {
      "provenance": []
    },
    "kernelspec": {
      "name": "python3",
      "display_name": "Python 3"
    },
    "language_info": {
      "name": "python"
    }
  },
  "cells": [
    {
      "cell_type": "code",
      "execution_count": 6,
      "metadata": {
        "id": "y45VCwpAFiSm"
      },
      "outputs": [],
      "source": [
        "# Creating queue\n",
        "class queue:\n",
        "    def __init__(self):\n",
        "        self.q = []\n",
        "    def addq(self,e):\n",
        "        self.q.append(e)\n",
        "    def delq(self):\n",
        "        v = None\n",
        "        if not self.isempty() :\n",
        "            v = self.q[0]\n",
        "            self.q = self.q[1:]\n",
        "        return v\n",
        "    def isempty(self):\n",
        "        return self.q==[]\n",
        "    def __str__(self):\n",
        "        return(str(self.q))\n",
        "\n",
        "# Creating Breadth First Serach\n",
        "def BFS(Alist,v):\n",
        "    visited ={}\n",
        "    for i in Alist.keys():\n",
        "        visited[i]=False\n",
        "    q = queue()\n",
        "    q.addq(v)\n",
        "    visited[v] = True\n",
        "\n",
        "    while (not q.isempty()):\n",
        "        j = q.delq()\n",
        "      #  print(visited)\n",
        "       # print(j)\n",
        "        for k in Alist[j]:\n",
        "            if not visited[k]:\n",
        "                visited[k]=True\n",
        "                q.addq(k)\n",
        "    return visited\n",
        "\n",
        "def component(Alist):\n",
        "    component = {}\n",
        "    for i in Alist.keys():\n",
        "        component[i]=-1\n",
        "\n",
        "    (compid,seen) = (0,0)\n",
        "    nextvv = []\n",
        "\n",
        "    while seen<len(Alist.keys()):\n",
        "        nextv = min([i for i in Alist.keys() if component[i] == -1])\n",
        "        visited = BFS(Alist,nextv)\n",
        "        for i in visited.keys():\n",
        "            if visited[i] and component[i]==-1:\n",
        "                component[i]=compid+1\n",
        "                seen+=1\n",
        "      #  print(component,seen)\n",
        "        compid+=1\n",
        "    return compid\n",
        "\n",
        "\n",
        "def findComponents_undirectedGraph(vertices,edges):\n",
        "    Alist = {}\n",
        "    for i in vertices:\n",
        "        Alist[i] = []\n",
        "    for (i,j) in edges :\n",
        "        Alist[i].append(j)\n",
        "   # print(Alist)\n",
        "    c = component(Alist)\n",
        "    return c\n",
        "\n"
      ]
    },
    {
      "cell_type": "markdown",
      "source": [
        "## **Example**"
      ],
      "metadata": {
        "id": "kMafzHG3mvO1"
      }
    },
    {
      "cell_type": "code",
      "source": [
        "v = [0,1,2,3,4,5,6]   # Input as Vertices\n",
        "edges = [(0,1),(0,2),(1,2),(1,4),(2,3),(4,5),(4,6),(5,6)]     # Unweighted Graph\n",
        "\n",
        "a = findComponents_undirectedGraph(v,edges)\n",
        "print('Number of Componenet in Graph:' ,a)"
      ],
      "metadata": {
        "colab": {
          "base_uri": "https://localhost:8080/"
        },
        "id": "SNyEEPiwmusd",
        "outputId": "fb79d842-46b2-4d7d-dc70-db77775f9b49"
      },
      "execution_count": 8,
      "outputs": [
        {
          "output_type": "stream",
          "name": "stdout",
          "text": [
            "Number of Componenet in Graph: 1\n"
          ]
        }
      ]
    }
  ]
}